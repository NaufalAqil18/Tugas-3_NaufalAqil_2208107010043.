{
 "cells": [
  {
   "cell_type": "markdown",
   "id": "72eca8f7",
   "metadata": {},
   "source": [
    "## **Pendahuluan**\n",
    "\n",
    "Pada praktikum ini, kita akan membangun sebuah model klasifikasi gambar menggunakan TensorFlow dan Keras.\n",
    "Model ini akan digunakan untuk mengklasifikasikan gambar menjadi tiga kategori: **Rock, Paper, dan Scissors**.\n",
    "\n",
    "Agar proses pelatihan menjadi lebih efisien dan cepat, kita akan memanfaatkan teknik **Transfer Learning** dengan menggunakan model pre-trained **MobileNetV2** sebagai feature extractor.\n",
    "\n",
    "### **Dataset**\n",
    "\n",
    "Dataset yang digunakan dalam praktikum ini berasal dari Kaggle, dan dapat diunduh melalui tautan berikut:\n",
    "\n",
    "🔗 [Rock-Paper-Scissors Dataset – Kaggle](https://www.kaggle.com/datasets/drgfreeman/rockpaperscissors)\n",
    "\n",
    "Setelah mendownload dataset dan mengekstraknya, **praktikan diwajibkan** untuk menyusun struktur folder dataset menjadi seperti berikut:\n",
    "\n",
    "<pre>\n",
    "dataset/\n",
    "    rock/\n",
    "    paper/\n",
    "    scissor/\n",
    "</pre>\n",
    "\n"
   ]
  },
  {
   "cell_type": "markdown",
   "id": "54a03446",
   "metadata": {},
   "source": [
    "### **Load Dataset**\n",
    "---\n",
    "\n",
    "Kode di bawah ini digunakan untuk memuat dataset citra dari struktur folder yang telah disiapkan sebelumnya.\n",
    "\n",
    "Praktikan diminta untuk:\n",
    "\n",
    "- Menentukan **ukuran gambar** (`img_size`) sesuai dengan model yang akan digunakan (misalnya 224x224 untuk MobileNetV2).\n",
    "- Mengatur **ukuran batch** (`batch_size`) sesuai kapasitas RAM/VRAM masing-masing.\n",
    "- Mengisi nilai **`seed`** untuk memastikan bahwa hasil pembagian data bisa direproduksi kembali dengan urutan yang sama setiap kali dijalankan.\n",
    "\n",
    "Dataset akan dibagi menjadi tiga bagian:\n",
    "- **Training set**: 70%\n",
    "- **Validation set**: 15%\n",
    "- **Testing set**: 15%\n",
    "\n",
    "Proses pemuatan data dilakukan dengan menggunakan fungsi bawaan TensorFlow, yaitu `image_dataset_from_directory()`, yang akan secara otomatis membaca gambar berdasarkan nama subfoldernya sebagai label.\n",
    "\n",
    "> **Catatan:**\n",
    "> Praktikan diperbolehkan untuk **menyesuaikan sendiri persentase pembagian data** (misalnya 80% train, 10% val, 10% test) selama proporsinya tetap konsisten dan masuk akal.  \n",
    "> Praktikan juga dapat mengubah **ukuran gambar (`img_size`)** jika ingin menggunakan arsitektur model yang berbeda, serta **mengganti nilai `seed`** untuk mencoba hasil pembagian data yang berbeda.\n",
    "\n",
    "Setelah training set dan validation+test set dimuat, validation dan test akan dipisahkan secara manual berdasarkan fraksi yang telah ditentukan.\n"
   ]
  },
  {
   "cell_type": "code",
   "execution_count": 1,
   "id": "d7363874",
   "metadata": {},
   "outputs": [
    {
     "name": "stdout",
     "output_type": "stream",
     "text": [
      "Found 2188 files belonging to 3 classes.\n",
      "Using 1532 files for training.\n",
      "Found 2188 files belonging to 3 classes.\n",
      "Using 656 files for validation.\n"
     ]
    }
   ],
   "source": [
    "import tensorflow as tf\n",
    "from tensorflow.keras import layers\n",
    "import os\n",
    "\n",
    "# === PARAMETER YANG HARUS DITENTUKAN PRAKTIKAN ===\n",
    "dataset_dir = \"dataset\"          # folder utama dataset\n",
    "img_size    = (224, 225)         # ukuran gambar (isi sendiri)\n",
    "batch_size  = 32                # ukuran batch\n",
    "seed        = 42                # random seed untuk reproducibility\n",
    "\n",
    "# Dapatkan daftar kelas dari folder\n",
    "classes = sorted(os.listdir(dataset_dir))\n",
    "\n",
    "# === ATURAN SPLIT DATA ===\n",
    "train_frac = 0.70\n",
    "val_frac   = 0.15\n",
    "test_frac  = 0.15\n",
    "vt_frac    = val_frac + test_frac   # val + test (untuk split manual nanti)\n",
    "\n",
    "# === MEMUAT TRAIN DATASET ===\n",
    "train_ds = tf.keras.preprocessing.image_dataset_from_directory(\n",
    "    dataset_dir,\n",
    "    validation_split=vt_frac,\n",
    "    subset=\"training\",\n",
    "    seed=seed,\n",
    "    image_size=img_size,\n",
    "    batch_size=batch_size,\n",
    "    label_mode=\"categorical\",        # gunakan one-hot encoding\n",
    ")\n",
    "\n",
    "# === MEMUAT VALIDATION + TEST DATASET (gabungan) ===\n",
    "val_test_ds = tf.keras.preprocessing.image_dataset_from_directory(\n",
    "    dataset_dir,\n",
    "    validation_split=vt_frac,\n",
    "    subset=\"validation\",\n",
    "    seed=seed,\n",
    "    image_size=img_size,\n",
    "    batch_size=batch_size,\n",
    "    label_mode=\"categorical\",\n",
    ")\n",
    "\n",
    "# === SPLIT VAL DAN TEST SECARA MANUAL ===\n",
    "vt_batches  = tf.data.experimental.cardinality(val_test_ds).numpy()\n",
    "val_batches = int(vt_batches * (val_frac / vt_frac))   # hitung proporsi val dalam val+test\n",
    "\n",
    "val_ds  = val_test_ds.take(val_batches)\n",
    "test_ds = val_test_ds.skip(val_batches)\n"
   ]
  },
  {
   "cell_type": "markdown",
   "id": "8b3f393e",
   "metadata": {},
   "source": [
    "### **Preprocessing dan Augmentasi Data**\n",
    "---\n",
    "\n",
    "Sebelum gambar dapat digunakan untuk melatih model, dataset perlu melalui proses **preprocessing** terlebih dahulu. Preprocessing ini bertujuan untuk memastikan bahwa semua input gambar berada dalam skala nilai yang konsisten dan sesuai dengan ekspektasi dari model.\n",
    "\n",
    "Pada praktikum ini, preprocessing dilakukan melalui dua tahap:\n",
    "\n",
    "1. **Normalisasi**:  \n",
    "   Setiap pixel gambar yang awalnya berada pada rentang nilai **[0, 255]** diubah ke rentang **[0, 1]** dengan menggunakan layer `Rescaling(1./255)`.\n",
    "\n",
    "2. **Augmentasi** (opsional):  \n",
    "   Untuk meningkatkan variasi data dan mengurangi overfitting, dilakukan augmentasi pada **data training saja**. Augmentasi dilakukan melalui transformasi berikut:\n",
    "   - `RandomFlip(\"horizontal\")`: membalik gambar secara horizontal.\n",
    "   - `RandomRotation(0.1)`: memutar gambar secara acak hingga 10%.\n",
    "   - `RandomZoom(0.1, 0.1)`: melakukan zoom in/out hingga 10%.\n",
    "   - `RandomContrast(0.1)`: mengubah kontras gambar secara acak hingga ±10%.\n",
    "\n",
    "Semua preprocessing dan augmentasi dilakukan melalui fungsi `prep()`.  \n",
    "Fungsi ini menerima parameter `augment` untuk menentukan apakah augmentasi akan diterapkan atau tidak.  \n",
    "- Jika `augment=True`, maka data akan dinormalisasi lalu diaugmentasi.  \n",
    "- Jika `augment=False`, maka hanya normalisasi yang dilakukan (untuk validation dan test set).\n",
    "\n",
    "Setelah diproses, setiap dataset akan di-cache dan di-prefetch menggunakan `AUTOTUNE` untuk mengoptimalkan performa saat training.\n",
    "\n",
    "> **Catatan untuk praktikan:**  \n",
    "> Praktikan dapat menyesuaikan jenis dan tingkat augmentasi pada `aug_layer` untuk melihat pengaruhnya terhadap performa model. Namun, augmentasi **hanya boleh diterapkan pada training set**.\n"
   ]
  },
  {
   "cell_type": "code",
   "execution_count": 2,
   "id": "3a16769f",
   "metadata": {},
   "outputs": [],
   "source": [
    "from tensorflow.keras import layers\n",
    "\n",
    "# praktikan diminta melengkapi isi preprocessing dan augmentasi\n",
    "norm_layer = tf.keras.Sequential([\n",
    "    layers.Rescaling(1./255),  # lengkapi: normalisasi ke [0,1]\n",
    "])\n",
    "\n",
    "aug_layer = tf.keras.Sequential([\n",
    "    layers.RandomFlip(\"horizontal\"),    # flip kiri-kanan\n",
    "    layers.RandomRotation(0.1),         # rotasi ±10%\n",
    "    layers.RandomZoom(0.1, 0.1),        # zoom in/out sampai 10%\n",
    "    layers.RandomContrast(0.1),         # kontras +-10%\n",
    "])\n",
    "\n",
    "# fungsi untuk mempersiapkan dataset\n",
    "def prep(ds, augment=False):\n",
    "    if augment:\n",
    "        ds = ds.map(lambda x, y: (aug_layer(norm_layer(x), training=True), y),\n",
    "                    num_parallel_calls=tf.data.AUTOTUNE)\n",
    "    else:\n",
    "        ds = ds.map(lambda x, y: (norm_layer(x), y),\n",
    "                    num_parallel_calls=tf.data.AUTOTUNE)\n",
    "    \n",
    "    return ds.cache().prefetch(tf.data.AUTOTUNE)\n",
    "\n",
    "# Praktikan diminta menentukan kapan augmentasi diaktifkan\n",
    "train_ds = prep(train_ds, augment=True)\n",
    "val_ds   = prep(val_ds,   augment=False)\n",
    "test_ds  = prep(test_ds,  augment=False)\n"
   ]
  },
  {
   "cell_type": "markdown",
   "id": "4c6a1510",
   "metadata": {},
   "source": [
    "### **Build Model dan Training**\n",
    "---\n",
    "\n",
    "Pada tahap ini, kita akan membangun arsitektur model menggunakan teknik **Transfer Learning** dengan memanfaatkan **MobileNetV2** sebagai feature extractor.\n",
    "\n",
    "Praktikan diminta untuk:\n",
    "\n",
    "- **Melengkapi input layer** (`inputs`) dengan ukuran shape gambar yang sesuai.\n",
    "- **Melengkapi output layer** (`outputs`) dengan jumlah neuron yang sama dengan jumlah kelas target (jumlah kategori pada dataset).\n",
    "\n",
    "Bagian head klasifikasi model disusun dengan struktur:\n",
    "\n",
    "- **GlobalAveragePooling2D**: Mengubah output feature map menjadi satu vektor rata-rata per channel.\n",
    "- **Dropout**: Teknik regularisasi untuk mengurangi overfitting.\n",
    "- **Dense (Softmax)**: Layer output yang mengklasifikasikan input ke dalam salah satu kelas.\n",
    "\n",
    "---\n",
    "\n",
    "### **Training Model**\n",
    "\n",
    "Sebelum memulai proses pelatihan, kita juga telah mendefinisikan dua buah callbacks:\n",
    "\n",
    "- `EarlyStopping`: Untuk menghentikan pelatihan jika validation loss tidak membaik setelah sejumlah epoch tertentu.\n",
    "- `ModelCheckpoint`: Untuk menyimpan model terbaik berdasarkan validation loss.\n",
    "\n",
    "Praktikan diminta untuk:\n",
    "\n",
    "- **Melengkapi list callbacks** di fungsi `model.fit()`, dengan menambahkan kedua callbacks yang telah dibuat sebelumnya (`early_stopping` dan `model_checkpoint`).\n",
    "- Menjalankan training selama **50 epoch** atau hingga proses berhenti otomatis karena `EarlyStopping`.\n",
    "\n",
    "> **Catatan:**  \n",
    "> Dengan menggunakan callbacks, kita dapat menghindari overfitting dan memastikan model terbaik tersimpan otomatis.\n",
    "\n"
   ]
  },
  {
   "cell_type": "code",
   "execution_count": 3,
   "id": "575df2ea",
   "metadata": {},
   "outputs": [
    {
     "name": "stderr",
     "output_type": "stream",
     "text": [
      "C:\\Users\\ACER\\AppData\\Local\\Temp\\ipykernel_13328\\1100262666.py:6: UserWarning: `input_shape` is undefined or non-square, or `rows` is not in [96, 128, 160, 192, 224]. Weights for input shape (224, 224) will be loaded as the default.\n",
      "  base_model = MobileNetV2(\n"
     ]
    },
    {
     "name": "stdout",
     "output_type": "stream",
     "text": [
      "Downloading data from https://storage.googleapis.com/tensorflow/keras-applications/mobilenet_v2/mobilenet_v2_weights_tf_dim_ordering_tf_kernels_1.0_224_no_top.h5\n",
      "\u001b[1m9406464/9406464\u001b[0m \u001b[32m━━━━━━━━━━━━━━━━━━━━\u001b[0m\u001b[37m\u001b[0m \u001b[1m4s\u001b[0m 0us/step\n",
      "Epoch 1/50\n",
      "\u001b[1m48/48\u001b[0m \u001b[32m━━━━━━━━━━━━━━━━━━━━\u001b[0m\u001b[37m\u001b[0m \u001b[1m0s\u001b[0m 327ms/step - accuracy: 0.6138 - loss: 0.8809"
     ]
    },
    {
     "name": "stderr",
     "output_type": "stream",
     "text": [
      "WARNING:absl:You are saving your model as an HDF5 file via `model.save()` or `keras.saving.save_model(model)`. This file format is considered legacy. We recommend using instead the native Keras format, e.g. `model.save('my_model.keras')` or `keras.saving.save_model(model, 'my_model.keras')`. \n"
     ]
    },
    {
     "name": "stdout",
     "output_type": "stream",
     "text": [
      "\u001b[1m48/48\u001b[0m \u001b[32m━━━━━━━━━━━━━━━━━━━━\u001b[0m\u001b[37m\u001b[0m \u001b[1m26s\u001b[0m 437ms/step - accuracy: 0.6169 - loss: 0.8753 - val_accuracy: 0.9625 - val_loss: 0.1964\n",
      "Epoch 2/50\n",
      "\u001b[1m48/48\u001b[0m \u001b[32m━━━━━━━━━━━━━━━━━━━━\u001b[0m\u001b[37m\u001b[0m \u001b[1m0s\u001b[0m 248ms/step - accuracy: 0.9384 - loss: 0.2342"
     ]
    },
    {
     "name": "stderr",
     "output_type": "stream",
     "text": [
      "WARNING:absl:You are saving your model as an HDF5 file via `model.save()` or `keras.saving.save_model(model)`. This file format is considered legacy. We recommend using instead the native Keras format, e.g. `model.save('my_model.keras')` or `keras.saving.save_model(model, 'my_model.keras')`. \n"
     ]
    },
    {
     "name": "stdout",
     "output_type": "stream",
     "text": [
      "\u001b[1m48/48\u001b[0m \u001b[32m━━━━━━━━━━━━━━━━━━━━\u001b[0m\u001b[37m\u001b[0m \u001b[1m15s\u001b[0m 306ms/step - accuracy: 0.9386 - loss: 0.2337 - val_accuracy: 0.9750 - val_loss: 0.1106\n",
      "Epoch 3/50\n",
      "\u001b[1m48/48\u001b[0m \u001b[32m━━━━━━━━━━━━━━━━━━━━\u001b[0m\u001b[37m\u001b[0m \u001b[1m0s\u001b[0m 254ms/step - accuracy: 0.9749 - loss: 0.1301"
     ]
    },
    {
     "name": "stderr",
     "output_type": "stream",
     "text": [
      "WARNING:absl:You are saving your model as an HDF5 file via `model.save()` or `keras.saving.save_model(model)`. This file format is considered legacy. We recommend using instead the native Keras format, e.g. `model.save('my_model.keras')` or `keras.saving.save_model(model, 'my_model.keras')`. \n"
     ]
    },
    {
     "name": "stdout",
     "output_type": "stream",
     "text": [
      "\u001b[1m48/48\u001b[0m \u001b[32m━━━━━━━━━━━━━━━━━━━━\u001b[0m\u001b[37m\u001b[0m \u001b[1m15s\u001b[0m 313ms/step - accuracy: 0.9749 - loss: 0.1301 - val_accuracy: 0.9812 - val_loss: 0.0830\n",
      "Epoch 4/50\n",
      "\u001b[1m48/48\u001b[0m \u001b[32m━━━━━━━━━━━━━━━━━━━━\u001b[0m\u001b[37m\u001b[0m \u001b[1m0s\u001b[0m 259ms/step - accuracy: 0.9787 - loss: 0.1027"
     ]
    },
    {
     "name": "stderr",
     "output_type": "stream",
     "text": [
      "WARNING:absl:You are saving your model as an HDF5 file via `model.save()` or `keras.saving.save_model(model)`. This file format is considered legacy. We recommend using instead the native Keras format, e.g. `model.save('my_model.keras')` or `keras.saving.save_model(model, 'my_model.keras')`. \n"
     ]
    },
    {
     "name": "stdout",
     "output_type": "stream",
     "text": [
      "\u001b[1m48/48\u001b[0m \u001b[32m━━━━━━━━━━━━━━━━━━━━\u001b[0m\u001b[37m\u001b[0m \u001b[1m15s\u001b[0m 317ms/step - accuracy: 0.9787 - loss: 0.1027 - val_accuracy: 0.9844 - val_loss: 0.0673\n",
      "Epoch 5/50\n",
      "\u001b[1m48/48\u001b[0m \u001b[32m━━━━━━━━━━━━━━━━━━━━\u001b[0m\u001b[37m\u001b[0m \u001b[1m0s\u001b[0m 319ms/step - accuracy: 0.9864 - loss: 0.0751"
     ]
    },
    {
     "name": "stderr",
     "output_type": "stream",
     "text": [
      "WARNING:absl:You are saving your model as an HDF5 file via `model.save()` or `keras.saving.save_model(model)`. This file format is considered legacy. We recommend using instead the native Keras format, e.g. `model.save('my_model.keras')` or `keras.saving.save_model(model, 'my_model.keras')`. \n"
     ]
    },
    {
     "name": "stdout",
     "output_type": "stream",
     "text": [
      "\u001b[1m48/48\u001b[0m \u001b[32m━━━━━━━━━━━━━━━━━━━━\u001b[0m\u001b[37m\u001b[0m \u001b[1m20s\u001b[0m 411ms/step - accuracy: 0.9864 - loss: 0.0751 - val_accuracy: 0.9875 - val_loss: 0.0588\n",
      "Epoch 6/50\n",
      "\u001b[1m48/48\u001b[0m \u001b[32m━━━━━━━━━━━━━━━━━━━━\u001b[0m\u001b[37m\u001b[0m \u001b[1m0s\u001b[0m 480ms/step - accuracy: 0.9872 - loss: 0.0652"
     ]
    },
    {
     "name": "stderr",
     "output_type": "stream",
     "text": [
      "WARNING:absl:You are saving your model as an HDF5 file via `model.save()` or `keras.saving.save_model(model)`. This file format is considered legacy. We recommend using instead the native Keras format, e.g. `model.save('my_model.keras')` or `keras.saving.save_model(model, 'my_model.keras')`. \n"
     ]
    },
    {
     "name": "stdout",
     "output_type": "stream",
     "text": [
      "\u001b[1m48/48\u001b[0m \u001b[32m━━━━━━━━━━━━━━━━━━━━\u001b[0m\u001b[37m\u001b[0m \u001b[1m30s\u001b[0m 599ms/step - accuracy: 0.9872 - loss: 0.0652 - val_accuracy: 0.9906 - val_loss: 0.0521\n",
      "Epoch 7/50\n",
      "\u001b[1m48/48\u001b[0m \u001b[32m━━━━━━━━━━━━━━━━━━━━\u001b[0m\u001b[37m\u001b[0m \u001b[1m0s\u001b[0m 487ms/step - accuracy: 0.9910 - loss: 0.0561"
     ]
    },
    {
     "name": "stderr",
     "output_type": "stream",
     "text": [
      "WARNING:absl:You are saving your model as an HDF5 file via `model.save()` or `keras.saving.save_model(model)`. This file format is considered legacy. We recommend using instead the native Keras format, e.g. `model.save('my_model.keras')` or `keras.saving.save_model(model, 'my_model.keras')`. \n"
     ]
    },
    {
     "name": "stdout",
     "output_type": "stream",
     "text": [
      "\u001b[1m48/48\u001b[0m \u001b[32m━━━━━━━━━━━━━━━━━━━━\u001b[0m\u001b[37m\u001b[0m \u001b[1m29s\u001b[0m 601ms/step - accuracy: 0.9910 - loss: 0.0561 - val_accuracy: 0.9875 - val_loss: 0.0472\n",
      "Epoch 8/50\n",
      "\u001b[1m48/48\u001b[0m \u001b[32m━━━━━━━━━━━━━━━━━━━━\u001b[0m\u001b[37m\u001b[0m \u001b[1m0s\u001b[0m 483ms/step - accuracy: 0.9938 - loss: 0.0421"
     ]
    },
    {
     "name": "stderr",
     "output_type": "stream",
     "text": [
      "WARNING:absl:You are saving your model as an HDF5 file via `model.save()` or `keras.saving.save_model(model)`. This file format is considered legacy. We recommend using instead the native Keras format, e.g. `model.save('my_model.keras')` or `keras.saving.save_model(model, 'my_model.keras')`. \n"
     ]
    },
    {
     "name": "stdout",
     "output_type": "stream",
     "text": [
      "\u001b[1m48/48\u001b[0m \u001b[32m━━━━━━━━━━━━━━━━━━━━\u001b[0m\u001b[37m\u001b[0m \u001b[1m41s\u001b[0m 600ms/step - accuracy: 0.9938 - loss: 0.0422 - val_accuracy: 0.9906 - val_loss: 0.0443\n",
      "Epoch 9/50\n",
      "\u001b[1m48/48\u001b[0m \u001b[32m━━━━━━━━━━━━━━━━━━━━\u001b[0m\u001b[37m\u001b[0m \u001b[1m0s\u001b[0m 474ms/step - accuracy: 0.9894 - loss: 0.0440"
     ]
    },
    {
     "name": "stderr",
     "output_type": "stream",
     "text": [
      "WARNING:absl:You are saving your model as an HDF5 file via `model.save()` or `keras.saving.save_model(model)`. This file format is considered legacy. We recommend using instead the native Keras format, e.g. `model.save('my_model.keras')` or `keras.saving.save_model(model, 'my_model.keras')`. \n"
     ]
    },
    {
     "name": "stdout",
     "output_type": "stream",
     "text": [
      "\u001b[1m48/48\u001b[0m \u001b[32m━━━━━━━━━━━━━━━━━━━━\u001b[0m\u001b[37m\u001b[0m \u001b[1m26s\u001b[0m 537ms/step - accuracy: 0.9894 - loss: 0.0440 - val_accuracy: 0.9906 - val_loss: 0.0413\n",
      "Epoch 10/50\n",
      "\u001b[1m48/48\u001b[0m \u001b[32m━━━━━━━━━━━━━━━━━━━━\u001b[0m\u001b[37m\u001b[0m \u001b[1m0s\u001b[0m 423ms/step - accuracy: 0.9942 - loss: 0.0379"
     ]
    },
    {
     "name": "stderr",
     "output_type": "stream",
     "text": [
      "WARNING:absl:You are saving your model as an HDF5 file via `model.save()` or `keras.saving.save_model(model)`. This file format is considered legacy. We recommend using instead the native Keras format, e.g. `model.save('my_model.keras')` or `keras.saving.save_model(model, 'my_model.keras')`. \n"
     ]
    },
    {
     "name": "stdout",
     "output_type": "stream",
     "text": [
      "\u001b[1m48/48\u001b[0m \u001b[32m━━━━━━━━━━━━━━━━━━━━\u001b[0m\u001b[37m\u001b[0m \u001b[1m26s\u001b[0m 543ms/step - accuracy: 0.9942 - loss: 0.0380 - val_accuracy: 0.9906 - val_loss: 0.0380\n",
      "Epoch 11/50\n",
      "\u001b[1m48/48\u001b[0m \u001b[32m━━━━━━━━━━━━━━━━━━━━\u001b[0m\u001b[37m\u001b[0m \u001b[1m28s\u001b[0m 589ms/step - accuracy: 0.9927 - loss: 0.0353 - val_accuracy: 0.9906 - val_loss: 0.0381\n",
      "Epoch 12/50\n",
      "\u001b[1m48/48\u001b[0m \u001b[32m━━━━━━━━━━━━━━━━━━━━\u001b[0m\u001b[37m\u001b[0m \u001b[1m0s\u001b[0m 495ms/step - accuracy: 0.9963 - loss: 0.0301"
     ]
    },
    {
     "name": "stderr",
     "output_type": "stream",
     "text": [
      "WARNING:absl:You are saving your model as an HDF5 file via `model.save()` or `keras.saving.save_model(model)`. This file format is considered legacy. We recommend using instead the native Keras format, e.g. `model.save('my_model.keras')` or `keras.saving.save_model(model, 'my_model.keras')`. \n"
     ]
    },
    {
     "name": "stdout",
     "output_type": "stream",
     "text": [
      "\u001b[1m48/48\u001b[0m \u001b[32m━━━━━━━━━━━━━━━━━━━━\u001b[0m\u001b[37m\u001b[0m \u001b[1m29s\u001b[0m 611ms/step - accuracy: 0.9963 - loss: 0.0301 - val_accuracy: 0.9906 - val_loss: 0.0363\n",
      "Epoch 13/50\n",
      "\u001b[1m48/48\u001b[0m \u001b[32m━━━━━━━━━━━━━━━━━━━━\u001b[0m\u001b[37m\u001b[0m \u001b[1m0s\u001b[0m 322ms/step - accuracy: 0.9992 - loss: 0.0269"
     ]
    },
    {
     "name": "stderr",
     "output_type": "stream",
     "text": [
      "WARNING:absl:You are saving your model as an HDF5 file via `model.save()` or `keras.saving.save_model(model)`. This file format is considered legacy. We recommend using instead the native Keras format, e.g. `model.save('my_model.keras')` or `keras.saving.save_model(model, 'my_model.keras')`. \n"
     ]
    },
    {
     "name": "stdout",
     "output_type": "stream",
     "text": [
      "\u001b[1m48/48\u001b[0m \u001b[32m━━━━━━━━━━━━━━━━━━━━\u001b[0m\u001b[37m\u001b[0m \u001b[1m18s\u001b[0m 379ms/step - accuracy: 0.9992 - loss: 0.0269 - val_accuracy: 0.9906 - val_loss: 0.0352\n",
      "Epoch 14/50\n",
      "\u001b[1m48/48\u001b[0m \u001b[32m━━━━━━━━━━━━━━━━━━━━\u001b[0m\u001b[37m\u001b[0m \u001b[1m14s\u001b[0m 297ms/step - accuracy: 0.9962 - loss: 0.0291 - val_accuracy: 0.9906 - val_loss: 0.0355\n",
      "Epoch 15/50\n",
      "\u001b[1m48/48\u001b[0m \u001b[32m━━━━━━━━━━━━━━━━━━━━\u001b[0m\u001b[37m\u001b[0m \u001b[1m0s\u001b[0m 243ms/step - accuracy: 0.9933 - loss: 0.0280"
     ]
    },
    {
     "name": "stderr",
     "output_type": "stream",
     "text": [
      "WARNING:absl:You are saving your model as an HDF5 file via `model.save()` or `keras.saving.save_model(model)`. This file format is considered legacy. We recommend using instead the native Keras format, e.g. `model.save('my_model.keras')` or `keras.saving.save_model(model, 'my_model.keras')`. \n"
     ]
    },
    {
     "name": "stdout",
     "output_type": "stream",
     "text": [
      "\u001b[1m48/48\u001b[0m \u001b[32m━━━━━━━━━━━━━━━━━━━━\u001b[0m\u001b[37m\u001b[0m \u001b[1m14s\u001b[0m 300ms/step - accuracy: 0.9933 - loss: 0.0280 - val_accuracy: 0.9906 - val_loss: 0.0331\n",
      "Epoch 16/50\n",
      "\u001b[1m48/48\u001b[0m \u001b[32m━━━━━━━━━━━━━━━━━━━━\u001b[0m\u001b[37m\u001b[0m \u001b[1m14s\u001b[0m 295ms/step - accuracy: 0.9923 - loss: 0.0279 - val_accuracy: 0.9906 - val_loss: 0.0342\n",
      "Epoch 17/50\n",
      "\u001b[1m48/48\u001b[0m \u001b[32m━━━━━━━━━━━━━━━━━━━━\u001b[0m\u001b[37m\u001b[0m \u001b[1m14s\u001b[0m 293ms/step - accuracy: 0.9972 - loss: 0.0232 - val_accuracy: 0.9906 - val_loss: 0.0343\n",
      "Epoch 18/50\n",
      "\u001b[1m48/48\u001b[0m \u001b[32m━━━━━━━━━━━━━━━━━━━━\u001b[0m\u001b[37m\u001b[0m \u001b[1m0s\u001b[0m 243ms/step - accuracy: 0.9982 - loss: 0.0186"
     ]
    },
    {
     "name": "stderr",
     "output_type": "stream",
     "text": [
      "WARNING:absl:You are saving your model as an HDF5 file via `model.save()` or `keras.saving.save_model(model)`. This file format is considered legacy. We recommend using instead the native Keras format, e.g. `model.save('my_model.keras')` or `keras.saving.save_model(model, 'my_model.keras')`. \n"
     ]
    },
    {
     "name": "stdout",
     "output_type": "stream",
     "text": [
      "\u001b[1m48/48\u001b[0m \u001b[32m━━━━━━━━━━━━━━━━━━━━\u001b[0m\u001b[37m\u001b[0m \u001b[1m15s\u001b[0m 307ms/step - accuracy: 0.9982 - loss: 0.0186 - val_accuracy: 0.9906 - val_loss: 0.0298\n",
      "Epoch 19/50\n",
      "\u001b[1m48/48\u001b[0m \u001b[32m━━━━━━━━━━━━━━━━━━━━\u001b[0m\u001b[37m\u001b[0m \u001b[1m14s\u001b[0m 297ms/step - accuracy: 0.9962 - loss: 0.0205 - val_accuracy: 0.9906 - val_loss: 0.0306\n",
      "Epoch 20/50\n",
      "\u001b[1m48/48\u001b[0m \u001b[32m━━━━━━━━━━━━━━━━━━━━\u001b[0m\u001b[37m\u001b[0m \u001b[1m0s\u001b[0m 243ms/step - accuracy: 0.9993 - loss: 0.0153"
     ]
    },
    {
     "name": "stderr",
     "output_type": "stream",
     "text": [
      "WARNING:absl:You are saving your model as an HDF5 file via `model.save()` or `keras.saving.save_model(model)`. This file format is considered legacy. We recommend using instead the native Keras format, e.g. `model.save('my_model.keras')` or `keras.saving.save_model(model, 'my_model.keras')`. \n"
     ]
    },
    {
     "name": "stdout",
     "output_type": "stream",
     "text": [
      "\u001b[1m48/48\u001b[0m \u001b[32m━━━━━━━━━━━━━━━━━━━━\u001b[0m\u001b[37m\u001b[0m \u001b[1m14s\u001b[0m 301ms/step - accuracy: 0.9993 - loss: 0.0154 - val_accuracy: 0.9906 - val_loss: 0.0297\n",
      "Epoch 21/50\n",
      "\u001b[1m48/48\u001b[0m \u001b[32m━━━━━━━━━━━━━━━━━━━━\u001b[0m\u001b[37m\u001b[0m \u001b[1m0s\u001b[0m 246ms/step - accuracy: 0.9978 - loss: 0.0165"
     ]
    },
    {
     "name": "stderr",
     "output_type": "stream",
     "text": [
      "WARNING:absl:You are saving your model as an HDF5 file via `model.save()` or `keras.saving.save_model(model)`. This file format is considered legacy. We recommend using instead the native Keras format, e.g. `model.save('my_model.keras')` or `keras.saving.save_model(model, 'my_model.keras')`. \n"
     ]
    },
    {
     "name": "stdout",
     "output_type": "stream",
     "text": [
      "\u001b[1m48/48\u001b[0m \u001b[32m━━━━━━━━━━━━━━━━━━━━\u001b[0m\u001b[37m\u001b[0m \u001b[1m14s\u001b[0m 303ms/step - accuracy: 0.9978 - loss: 0.0165 - val_accuracy: 0.9906 - val_loss: 0.0278\n",
      "Epoch 22/50\n",
      "\u001b[1m48/48\u001b[0m \u001b[32m━━━━━━━━━━━━━━━━━━━━\u001b[0m\u001b[37m\u001b[0m \u001b[1m0s\u001b[0m 244ms/step - accuracy: 0.9993 - loss: 0.0151"
     ]
    },
    {
     "name": "stderr",
     "output_type": "stream",
     "text": [
      "WARNING:absl:You are saving your model as an HDF5 file via `model.save()` or `keras.saving.save_model(model)`. This file format is considered legacy. We recommend using instead the native Keras format, e.g. `model.save('my_model.keras')` or `keras.saving.save_model(model, 'my_model.keras')`. \n"
     ]
    },
    {
     "name": "stdout",
     "output_type": "stream",
     "text": [
      "\u001b[1m48/48\u001b[0m \u001b[32m━━━━━━━━━━━━━━━━━━━━\u001b[0m\u001b[37m\u001b[0m \u001b[1m14s\u001b[0m 301ms/step - accuracy: 0.9992 - loss: 0.0152 - val_accuracy: 0.9906 - val_loss: 0.0275\n",
      "Epoch 23/50\n",
      "\u001b[1m48/48\u001b[0m \u001b[32m━━━━━━━━━━━━━━━━━━━━\u001b[0m\u001b[37m\u001b[0m \u001b[1m14s\u001b[0m 297ms/step - accuracy: 0.9992 - loss: 0.0125 - val_accuracy: 0.9906 - val_loss: 0.0299\n",
      "Epoch 24/50\n",
      "\u001b[1m48/48\u001b[0m \u001b[32m━━━━━━━━━━━━━━━━━━━━\u001b[0m\u001b[37m\u001b[0m \u001b[1m14s\u001b[0m 294ms/step - accuracy: 0.9993 - loss: 0.0135 - val_accuracy: 0.9937 - val_loss: 0.0298\n",
      "Epoch 25/50\n",
      "\u001b[1m48/48\u001b[0m \u001b[32m━━━━━━━━━━━━━━━━━━━━\u001b[0m\u001b[37m\u001b[0m \u001b[1m0s\u001b[0m 250ms/step - accuracy: 0.9969 - loss: 0.0149"
     ]
    },
    {
     "name": "stderr",
     "output_type": "stream",
     "text": [
      "WARNING:absl:You are saving your model as an HDF5 file via `model.save()` or `keras.saving.save_model(model)`. This file format is considered legacy. We recommend using instead the native Keras format, e.g. `model.save('my_model.keras')` or `keras.saving.save_model(model, 'my_model.keras')`. \n"
     ]
    },
    {
     "name": "stdout",
     "output_type": "stream",
     "text": [
      "\u001b[1m48/48\u001b[0m \u001b[32m━━━━━━━━━━━━━━━━━━━━\u001b[0m\u001b[37m\u001b[0m \u001b[1m15s\u001b[0m 310ms/step - accuracy: 0.9969 - loss: 0.0149 - val_accuracy: 0.9906 - val_loss: 0.0268\n",
      "Epoch 26/50\n",
      "\u001b[1m48/48\u001b[0m \u001b[32m━━━━━━━━━━━━━━━━━━━━\u001b[0m\u001b[37m\u001b[0m \u001b[1m0s\u001b[0m 244ms/step - accuracy: 1.0000 - loss: 0.0106"
     ]
    },
    {
     "name": "stderr",
     "output_type": "stream",
     "text": [
      "WARNING:absl:You are saving your model as an HDF5 file via `model.save()` or `keras.saving.save_model(model)`. This file format is considered legacy. We recommend using instead the native Keras format, e.g. `model.save('my_model.keras')` or `keras.saving.save_model(model, 'my_model.keras')`. \n"
     ]
    },
    {
     "name": "stdout",
     "output_type": "stream",
     "text": [
      "\u001b[1m48/48\u001b[0m \u001b[32m━━━━━━━━━━━━━━━━━━━━\u001b[0m\u001b[37m\u001b[0m \u001b[1m15s\u001b[0m 302ms/step - accuracy: 1.0000 - loss: 0.0106 - val_accuracy: 0.9937 - val_loss: 0.0262\n",
      "Epoch 27/50\n",
      "\u001b[1m48/48\u001b[0m \u001b[32m━━━━━━━━━━━━━━━━━━━━\u001b[0m\u001b[37m\u001b[0m \u001b[1m14s\u001b[0m 295ms/step - accuracy: 0.9968 - loss: 0.0150 - val_accuracy: 0.9937 - val_loss: 0.0300\n",
      "Epoch 28/50\n",
      "\u001b[1m48/48\u001b[0m \u001b[32m━━━━━━━━━━━━━━━━━━━━\u001b[0m\u001b[37m\u001b[0m \u001b[1m0s\u001b[0m 242ms/step - accuracy: 0.9990 - loss: 0.0140"
     ]
    },
    {
     "name": "stderr",
     "output_type": "stream",
     "text": [
      "WARNING:absl:You are saving your model as an HDF5 file via `model.save()` or `keras.saving.save_model(model)`. This file format is considered legacy. We recommend using instead the native Keras format, e.g. `model.save('my_model.keras')` or `keras.saving.save_model(model, 'my_model.keras')`. \n"
     ]
    },
    {
     "name": "stdout",
     "output_type": "stream",
     "text": [
      "\u001b[1m48/48\u001b[0m \u001b[32m━━━━━━━━━━━━━━━━━━━━\u001b[0m\u001b[37m\u001b[0m \u001b[1m14s\u001b[0m 299ms/step - accuracy: 0.9990 - loss: 0.0140 - val_accuracy: 0.9937 - val_loss: 0.0252\n",
      "Epoch 29/50\n",
      "\u001b[1m48/48\u001b[0m \u001b[32m━━━━━━━━━━━━━━━━━━━━\u001b[0m\u001b[37m\u001b[0m \u001b[1m14s\u001b[0m 295ms/step - accuracy: 0.9997 - loss: 0.0104 - val_accuracy: 0.9937 - val_loss: 0.0256\n",
      "Epoch 30/50\n",
      "\u001b[1m48/48\u001b[0m \u001b[32m━━━━━━━━━━━━━━━━━━━━\u001b[0m\u001b[37m\u001b[0m \u001b[1m14s\u001b[0m 295ms/step - accuracy: 1.0000 - loss: 0.0083 - val_accuracy: 0.9937 - val_loss: 0.0282\n",
      "Epoch 31/50\n",
      "\u001b[1m48/48\u001b[0m \u001b[32m━━━━━━━━━━━━━━━━━━━━\u001b[0m\u001b[37m\u001b[0m \u001b[1m14s\u001b[0m 296ms/step - accuracy: 1.0000 - loss: 0.0118 - val_accuracy: 0.9937 - val_loss: 0.0269\n"
     ]
    }
   ],
   "source": [
    "import tensorflow as tf\n",
    "from tensorflow.keras import layers, models, callbacks\n",
    "from tensorflow.keras.applications import MobileNetV2\n",
    "\n",
    "# Load pre-trained base\n",
    "base_model = MobileNetV2(\n",
    "    input_shape=(*img_size, 3),\n",
    "    include_top=False,\n",
    "    weights=\"imagenet\"\n",
    ")\n",
    "base_model.trainable = False\n",
    "\n",
    "# Tambahkan head klasifikasi baru\n",
    "# Praktikan diminta melengkapi bagian input dan output di bawah ini\n",
    "# Lengkapi bagian yang kosong dengan menyusun arsitektur head klasifikasi\n",
    "inputs = tf.keras.Input(shape=(*img_size, 3))    # Tentukan input shape\n",
    "x = base_model(inputs, training=False)\n",
    "x = layers.GlobalAveragePooling2D()(x)\n",
    "x = layers.Dropout(0.2)(x)\n",
    "outputs = layers.Dense(len(classes), activation=\"softmax\")(x)  # Tentukan jumlah output classes\n",
    "model = models.Model(inputs, outputs)\n",
    "\n",
    "# Compile model\n",
    "model.compile(\n",
    "    optimizer  = \"adam\",\n",
    "    loss       = \"categorical_crossentropy\",\n",
    "    metrics    = [\"accuracy\"]\n",
    ")\n",
    "\n",
    "# Callbacks\n",
    "early_stopping = callbacks.EarlyStopping(\n",
    "    monitor    = \"val_loss\",\n",
    "    patience   = 3,\n",
    "    restore_best_weights=True\n",
    ")\n",
    "model_checkpoint = callbacks.ModelCheckpoint(\n",
    "    \"best_transfer.h5\",\n",
    "    monitor=\"val_loss\",\n",
    "    save_best_only=True\n",
    ")\n",
    "\n",
    "# Training model\n",
    "# Praktikan diminta melengkapi callbacks yang digunakan\n",
    "history = model.fit(\n",
    "    train_ds,\n",
    "    validation_data=val_ds,\n",
    "    epochs=50,\n",
    "    callbacks=[early_stopping, model_checkpoint]    # Lengkapi dengan callbacks yang telah dibuat\n",
    ")\n"
   ]
  },
  {
   "cell_type": "markdown",
   "id": "957bf440",
   "metadata": {},
   "source": [
    "### **Evaluasi Model**\n",
    "---\n",
    "\n",
    "Setelah model selesai dilatih, langkah berikutnya adalah mengevaluasi performanya pada **test set**.\n",
    "\n",
    "Evaluasi dilakukan menggunakan dua pendekatan utama:\n",
    "\n",
    "1. **Classification Report**  \n",
    "   Menampilkan metrik klasifikasi seperti:\n",
    "   - **Precision**: Seberapa akurat model saat membuat prediksi positif.\n",
    "   - **Recall**: Seberapa baik model menangkap semua sampel positif.\n",
    "   - **F1-Score**: Harmoni antara precision dan recall.\n",
    "   - **Accuracy**: Persentase prediksi yang benar dari semua prediksi.\n",
    "\n",
    "2. **Confusion Matrix**  \n",
    "   Menunjukkan jumlah prediksi benar dan salah untuk masing-masing kelas, dalam bentuk tabel.  \n",
    "   Dengan confusion matrix, kita bisa melihat pola kesalahan model (misal, apakah model sering salah membedakan \"rock\" dengan \"paper\", dll).\n",
    "\n",
    "---\n",
    "\n",
    "#### Langkah-langkah yang dilakukan pada kode:\n",
    "\n",
    "- Menggunakan model untuk melakukan prediksi pada seluruh test dataset.\n",
    "- Membandingkan hasil prediksi dengan label asli.\n",
    "- Menampilkan classification report menggunakan `classification_report` dari scikit-learn.\n",
    "- Menghitung dan memvisualisasikan confusion matrix menggunakan `ConfusionMatrixDisplay`.\n",
    "\n",
    "> **Catatan untuk praktikan:**  \n",
    "> Perhatikan nilai **precision**, **recall**, dan **f1-score** dari masing-masing kelas.  \n",
    "> Jika terdapat ketidakseimbangan performa antar kelas, analisis kemungkinan penyebabnya (misalnya karena jumlah data tidak seimbang, kesamaan visual antar kelas, dsb).\n"
   ]
  },
  {
   "cell_type": "code",
   "execution_count": 4,
   "id": "b89597f1",
   "metadata": {},
   "outputs": [
    {
     "name": "stdout",
     "output_type": "stream",
     "text": [
      "\u001b[1m11/11\u001b[0m \u001b[32m━━━━━━━━━━━━━━━━━━━━\u001b[0m\u001b[37m\u001b[0m \u001b[1m5s\u001b[0m 345ms/step\n",
      "=== Classification Report ===\n",
      "              precision    recall  f1-score   support\n",
      "\n",
      "       paper     0.9881    0.9540    0.9708        87\n",
      "        rock     0.9919    0.9919    0.9919       124\n",
      "    scissors     0.9688    0.9920    0.9802       125\n",
      "\n",
      "    accuracy                         0.9821       336\n",
      "   macro avg     0.9829    0.9793    0.9810       336\n",
      "weighted avg     0.9823    0.9821    0.9821       336\n",
      "\n"
     ]
    },
    {
     "data": {
      "image/png": "[encoded data removed]",
      "text/plain": [
       "<Figure size 600x600 with 1 Axes>"
      ]
     },
     "metadata": {},
     "output_type": "display_data"
    }
   ],
   "source": [
    "import numpy as np\n",
    "import matplotlib.pyplot as plt\n",
    "from sklearn.metrics import (\n",
    "    classification_report,\n",
    "    confusion_matrix,\n",
    "    ConfusionMatrixDisplay\n",
    ")\n",
    "\n",
    "# dapatkan prediksi probabilitas dan label dari test set\n",
    "y_pred_probs = model.predict(test_ds)               # shape = (N, num_classes)\n",
    "y_pred = np.argmax(y_pred_probs, axis=1)             # ambil indeks prediksi tertinggi (shape: (N,))\n",
    "\n",
    "# ekstrak label asli dari test_ds\n",
    "#    Karena test_ds bertipe (x_batch, y_batch) dengan label one-hot, kita ambil argmax dari y_batch\n",
    "y_true = np.concatenate([\n",
    "    np.argmax(y.numpy(), axis=1)\n",
    "    for _, y in test_ds\n",
    "], axis=0)\n",
    "\n",
    "# tampilkan classification report\n",
    "print(\"=== Classification Report ===\")\n",
    "print(classification_report(\n",
    "    y_true,\n",
    "    y_pred,\n",
    "    target_names=classes,\n",
    "    digits=4\n",
    "))\n",
    "\n",
    "# hitung dan tampilkan confusion matrix\n",
    "cm = confusion_matrix(y_true, y_pred)\n",
    "disp = ConfusionMatrixDisplay(confusion_matrix=cm, display_labels=classes)\n",
    "\n",
    "fig, ax = plt.subplots(figsize=(6,6))\n",
    "disp.plot(ax=ax, cmap=plt.cm.Blues, colorbar=False)\n",
    "plt.title(\"Confusion Matrix\")\n",
    "plt.xticks(rotation=45, ha=\"right\")\n",
    "plt.tight_layout()\n",
    "plt.show()\n"
   ]
  },
  {
   "cell_type": "markdown",
   "id": "31e376bd",
   "metadata": {},
   "source": [
    "Setelah proses pelatihan selesai, model yang telah dilatih akan secara otomatis disimpan oleh callback `ModelCheckpoint` ke dalam file `.h5`.\n",
    "\n",
    "Model ini dapat langsung digunakan dalam pengembangan aplikasi backend yang menggunakan **FastAPI** atau frontend berbasis **Streamlit**, untuk membuat aplikasi klasifikasi gambar."
   ]
  }
 ],
 "metadata": {
  "kernelspec": {
   "display_name": "virEnvironment",
   "language": "python",
   "name": "virenvironment"
  },
  "language_info": {
   "codemirror_mode": {
    "name": "ipython",
    "version": 3
   },
   "file_extension": ".py",
   "mimetype": "text/x-python",
   "name": "python",
   "nbconvert_exporter": "python",
   "pygments_lexer": "ipython3",
   "version": "3.10.5"
  }
 },
 "nbformat": 4,
 "nbformat_minor": 5
}
